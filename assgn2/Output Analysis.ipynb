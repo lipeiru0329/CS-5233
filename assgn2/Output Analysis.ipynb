{
 "cells": [
  {
   "cell_type": "code",
   "execution_count": 1,
   "metadata": {},
   "outputs": [],
   "source": [
    "%matplotlib inline \n",
    "import pandas as pd\n",
    "import matplotlib.pyplot as plt\n",
    "import numpy as np\n",
    "import configparser\n",
    "import time\n",
    "\n",
    "from themepark_simulator import SingaporeThemePark"
   ]
  },
  {
   "cell_type": "code",
   "execution_count": null,
   "metadata": {
    "collapsed": true
   },
   "outputs": [],
   "source": [
    "config = configparser.ConfigParser()\n",
    "config.read('random_variables.ini')\n",
    "\n",
    "mean_inter_arrival = config.getfloat('Random Variables', 'mean_inter_arrival')\n",
    "triangular_left = config.getfloat('Random Variables', 'triangular_left')\n",
    "triangular_mode = config.getfloat('Random Variables', 'triangular_mode')\n",
    "triangular_right = config.getfloat('Random Variables', 'triangular_right')\n",
    "mean_timespent = config.getfloat('Random Variables', 'mean_timespent')\n",
    "std_timespent = config.getfloat('Random Variables', 'std_timespent')\n"
   ]
  },
  {
   "cell_type": "code",
   "execution_count": null,
   "metadata": {},
   "outputs": [],
   "source": [
    "from themepark_simulator import SingaporeThemePark\n",
    "\n",
    "num_docks = 80\n",
    "num_bicycles = 80\n",
    "run_length = 525600\n",
    "random_seed = 5\n",
    "\n",
    "\n",
    "park = SingaporeThemePark(\n",
    "    num_docks, \n",
    "    num_bicycles, \n",
    "    run_length,\n",
    "    random_seed,\n",
    "    mean_inter_arrival,\n",
    "    triangular_left,\n",
    "    triangular_mode,\n",
    "    triangular_right,\n",
    "    mean_timespent,\n",
    "    std_timespent\n",
    "    )\n",
    "\n",
    "start_time = time.time()\n",
    "\n",
    "park.simulate()\n",
    "\n",
    "end_time = time.time()\n",
    "run_time = end_time - start_time\n",
    "print (\"Simulation Run Time : {:.2f} seconds\".format(run_time))"
   ]
  },
  {
   "cell_type": "code",
   "execution_count": null,
   "metadata": {
    "collapsed": true
   },
   "outputs": [],
   "source": [
    "plot_points = 100"
   ]
  },
  {
   "cell_type": "code",
   "execution_count": null,
   "metadata": {},
   "outputs": [],
   "source": [
    "x = np.array(park.time_snapshot)/(24*60)\n",
    "data_length = int(x.size/plot_points)\n",
    "x = x[0::data_length]\n",
    "y1 = np.array(park.visitors_in_park_snapshot)\n",
    "y1 = y1[0::data_length]\n",
    "\n",
    "\n",
    "plt.plot(x,y1,'g-', label='Visitors in Park')\n",
    "plt.legend()\n",
    "plt.xlabel('Time (days)')\n",
    "plt.ylabel('Visitors')\n",
    "plt.title('Visitors')\n",
    "plt.show()"
   ]
  },
  {
   "cell_type": "code",
   "execution_count": null,
   "metadata": {},
   "outputs": [],
   "source": [
    "x = np.array(park.time_snapshot)/(24*60)\n",
    "data_length = int(x.size/plot_points)\n",
    "x = x[0::data_length]\n",
    "y1 = np.array(park.pickup_queue_total_snapshot)\n",
    "y1 = y1[0::data_length]\n",
    "\n",
    "\n",
    "plt.plot(x,y1,'g-', label='Pickup Queue')\n",
    "plt.legend()\n",
    "plt.xlabel('Time (days)')\n",
    "plt.ylabel('Pickup Queue')\n",
    "plt.title('Total Pickup Queue')\n",
    "plt.show()"
   ]
  },
  {
   "cell_type": "code",
   "execution_count": null,
   "metadata": {},
   "outputs": [],
   "source": [
    "x = np.array(park.time_snapshot)/(24*60)\n",
    "data_length = int(x.size/plot_points)\n",
    "x = x[0::data_length]\n",
    "y1 = np.array(park.dropoff_queue_total_snapshot)\n",
    "y1 = y1[0::data_length]\n",
    "\n",
    "\n",
    "plt.plot(x,y1,'g-', label='Dropoff Queue')\n",
    "plt.legend()\n",
    "plt.xlabel('Time (days)')\n",
    "plt.ylabel('Dropoff Queue')\n",
    "plt.title('Total Dropoff Queue')\n",
    "plt.show()"
   ]
  },
  {
   "cell_type": "code",
   "execution_count": null,
   "metadata": {},
   "outputs": [],
   "source": [
    "for i in range(0,4):\n",
    "\n",
    "    x = np.array(park.time_snapshot)/(24*60)\n",
    "    data_length = int(x.size/plot_points)\n",
    "    x = x[0::data_length]\n",
    "    y1 = np.array(park.pickup_queue_snapshot[i])\n",
    "    y1 = y1[0::data_length]\n",
    "    y2 = np.array(park.dropoff_queue_snapshot[i])\n",
    "    y2 = y2[0::data_length]\n",
    "\n",
    "    plt.plot(x,y1,'g-', label='Pickup Queue')\n",
    "    plt.plot(x,y2,'b-', label='Dropoff Queue')\n",
    "    plt.legend()\n",
    "    plt.xlabel('Time (days)')\n",
    "    plt.ylabel('Queue Length')\n",
    "    plt.title('Queues at Attraction ' + str (i+1))\n",
    "    plt.show()"
   ]
  },
  {
   "cell_type": "code",
   "execution_count": null,
   "metadata": {},
   "outputs": [],
   "source": [
    "for i in range(0,4):\n",
    "    x = np.array(park.time_snapshot)/(24*60)\n",
    "    data_length = int(x.size/plot_points)\n",
    "    x = x[0::data_length]\n",
    "    y1 = np.array(park.avg_pickup_delay_snapshot[i])\n",
    "    y1 = y1[0::data_length]\n",
    "    y2 = np.array(park.avg_dropoff_delay_snapshot[i])\n",
    "    y2 = y2[0::data_length]\n",
    "    \n",
    "    plt.plot(x,y1,'g-', label='Avg Pickup Delay')\n",
    "    plt.plot(x,y2,'b-', label='Average Dropoff Delay')\n",
    "    plt.legend()\n",
    "    plt.xlabel('Time (days)')\n",
    "    plt.ylabel('Waiting time (mins)')\n",
    "    title = 'Average Delays at Attraction ' + str(i+1)\n",
    "    plt.title(title)\n",
    "    plt.show()"
   ]
  },
  {
   "cell_type": "code",
   "execution_count": null,
   "metadata": {},
   "outputs": [],
   "source": [
    "x = np.array(park.time_snapshot)/(24*60)\n",
    "data_length = int(x.size/plot_points)\n",
    "x = x[0::data_length]\n",
    "y1 = np.array(park.total_delay_per_visitor_snapshot)\n",
    "y1 = y1[0::data_length]\n",
    "\n",
    "plt.plot(x,y1,'b-')\n",
    "plt.legend()\n",
    "plt.xlabel('Time (days)')\n",
    "plt.ylabel('Waiting Time (mins)')\n",
    "plt.title('Avg Total Waiting Times per Visitor')\n",
    "plt.show()"
   ]
  },
  {
   "cell_type": "code",
   "execution_count": null,
   "metadata": {},
   "outputs": [],
   "source": [
    "n_bins = int(np.sqrt(len(park.avg_waiting_times_per_visitor)))\n",
    "n_bins = 30\n",
    "\n",
    "n, bins, patches = plt.hist(park.avg_waiting_times_per_visitor,bins=n_bins, rwidth=0.7)\n",
    "#plt.xticks(range(0,max_edge, 5))\n",
    "plt.xlabel('Avg Waiting Times (mins)')\n",
    "plt.title('Avg Waiting Times for Visitors')\n",
    "plt.ylabel('Number of Visitors')\n",
    "plt.show()"
   ]
  },
  {
   "cell_type": "code",
   "execution_count": null,
   "metadata": {},
   "outputs": [],
   "source": [
    "x = np.array(park.time_snapshot)/(24*60)\n",
    "data_length = int(x.size/plot_points)\n",
    "x = x[0::data_length]\n",
    "y1 = np.array(park.percentage_happy_snapshot)\n",
    "y1 = y1[0::data_length]\n",
    "\n",
    "plt.plot(x,y1*100,'b-')\n",
    "plt.legend()\n",
    "plt.xlabel('Time (days)')\n",
    "plt.ylabel('Percentage Happy Visitors (%)')\n",
    "plt.title('Percentage Happy Visitors')\n",
    "plt.show()"
   ]
  },
  {
   "cell_type": "code",
   "execution_count": null,
   "metadata": {
    "collapsed": true
   },
   "outputs": [],
   "source": []
  },
  {
   "cell_type": "code",
   "execution_count": null,
   "metadata": {
    "collapsed": true
   },
   "outputs": [],
   "source": []
  }
 ],
 "metadata": {
  "kernelspec": {
   "display_name": "Python 3",
   "language": "python",
   "name": "python3"
  },
  "language_info": {
   "codemirror_mode": {
    "name": "ipython",
    "version": 3
   },
   "file_extension": ".py",
   "mimetype": "text/x-python",
   "name": "python",
   "nbconvert_exporter": "python",
   "pygments_lexer": "ipython3",
   "version": "3.6.4"
  }
 },
 "nbformat": 4,
 "nbformat_minor": 2
}
